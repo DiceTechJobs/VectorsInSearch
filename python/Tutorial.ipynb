{
 "cells": [
  {
   "cell_type": "markdown",
   "metadata": {},
   "source": [
    "## Step 1 - Install Gensim, and Dowload the Word2Vec Model and vectors"
   ]
  },
  {
   "cell_type": "code",
   "execution_count": null,
   "metadata": {},
   "outputs": [],
   "source": [
    "# Install gensim\n",
    "# !pip install gensim"
   ]
  },
  {
   "cell_type": "code",
   "execution_count": 14,
   "metadata": {},
   "outputs": [],
   "source": [
    "import gensim\n",
    "import gensim.downloader as api"
   ]
  },
  {
   "cell_type": "code",
   "execution_count": 28,
   "metadata": {},
   "outputs": [
    {
     "name": "stdout",
     "output_type": "stream",
     "text": [
      "[==================================================] 100.0% 128.1/128.1MB downloaded\n"
     ]
    },
    {
     "data": {
      "text/plain": [
       "[('dog', 0.8798074722290039),\n",
       " ('rabbit', 0.7424427270889282),\n",
       " ('cats', 0.7323004007339478),\n",
       " ('monkey', 0.7288710474967957),\n",
       " ('pet', 0.7190139293670654),\n",
       " ('dogs', 0.7163873314857483),\n",
       " ('mouse', 0.6915251016616821),\n",
       " ('puppy', 0.6800068616867065),\n",
       " ('rat', 0.6641027331352234),\n",
       " ('spider', 0.6501134634017944)]"
      ]
     },
     "execution_count": 28,
     "metadata": {},
     "output_type": "execute_result"
    }
   ],
   "source": [
    "model = api.load(\"glove-wiki-gigaword-100\")  # download the model and return as object ready for use\n",
    "model.most_similar(\"cat\")"
   ]
  },
  {
   "cell_type": "code",
   "execution_count": 41,
   "metadata": {},
   "outputs": [
    {
     "data": {
      "text/plain": [
       "[('data', 0.7814346551895142),\n",
       " ('database', 0.6885414719581604),\n",
       " ('databases', 0.6605490446090698),\n",
       " ('knowledge', 0.6585058569908142),\n",
       " ('analysis', 0.6544734835624695),\n",
       " ('search', 0.6509679555892944),\n",
       " ('communication', 0.6452988386154175),\n",
       " ('documentation', 0.6334584951400757),\n",
       " ('processing', 0.6322544813156128),\n",
       " ('dissemination', 0.6290022134780884)]"
      ]
     },
     "execution_count": 41,
     "metadata": {},
     "output_type": "execute_result"
    }
   ],
   "source": [
    "model.most_similar(positive=[\"information\",\"retrieval\"])"
   ]
  },
  {
   "cell_type": "code",
   "execution_count": 39,
   "metadata": {},
   "outputs": [
    {
     "data": {
      "text/plain": [
       "[('information', 0.6572738289833069),\n",
       " ('knowledge', 0.6555200815200806),\n",
       " ('human', 0.6344870328903198),\n",
       " ('biological', 0.6280955076217651),\n",
       " ('using', 0.6267763376235962),\n",
       " ('secret', 0.6181720495223999),\n",
       " ('use', 0.6163333654403687),\n",
       " ('scientific', 0.6116725206375122),\n",
       " ('communication', 0.6081548929214478),\n",
       " ('data', 0.6031312346458435)]"
      ]
     },
     "execution_count": 39,
     "metadata": {},
     "output_type": "execute_result"
    }
   ],
   "source": [
    "model.most_similar(positive=[\"artificial\",\"intelligence\"])"
   ]
  },
  {
   "cell_type": "code",
   "execution_count": 43,
   "metadata": {},
   "outputs": [
    {
     "data": {
      "text/plain": [
       "[('the', <gensim.models.keyedvectors.Vocab at 0x1b6abc5780>),\n",
       " (',', <gensim.models.keyedvectors.Vocab at 0x1b5bcaebe0>),\n",
       " ('.', <gensim.models.keyedvectors.Vocab at 0x1b6abc5860>),\n",
       " ('of', <gensim.models.keyedvectors.Vocab at 0x1b5bcaea20>),\n",
       " ('to', <gensim.models.keyedvectors.Vocab at 0x1b6abc5470>),\n",
       " ('and', <gensim.models.keyedvectors.Vocab at 0x1b5bcaec50>),\n",
       " ('in', <gensim.models.keyedvectors.Vocab at 0x1b6abc5898>),\n",
       " ('a', <gensim.models.keyedvectors.Vocab at 0x1b6abc5b00>),\n",
       " ('\"', <gensim.models.keyedvectors.Vocab at 0x1b6abc5cf8>),\n",
       " (\"'s\", <gensim.models.keyedvectors.Vocab at 0x1b6abc5048>)]"
      ]
     },
     "execution_count": 43,
     "metadata": {},
     "output_type": "execute_result"
    }
   ],
   "source": [
    "list(model.vocab.items())[0:10]"
   ]
  },
  {
   "cell_type": "code",
   "execution_count": 48,
   "metadata": {},
   "outputs": [
    {
     "data": {
      "text/plain": [
       "400000"
      ]
     },
     "execution_count": 48,
     "metadata": {},
     "output_type": "execute_result"
    }
   ],
   "source": [
    "keys = model.vocab.keys()\n",
    "vecs = []\n",
    "key2vec = dict()\n",
    "for k in keys:\n",
    "    key2vec[k] = model[k]\n",
    "len(key2vec)"
   ]
  },
  {
   "cell_type": "code",
   "execution_count": 50,
   "metadata": {},
   "outputs": [
    {
     "name": "stdout",
     "output_type": "stream",
     "text": [
      "the        5.8211536\n",
      ",          5.553375\n",
      ".          5.4601502\n",
      "of         6.296869\n",
      "to         6.450651\n",
      "and        5.667807\n",
      "in         6.0944986\n",
      "a          6.242884\n",
      "\"          6.5840864\n",
      "'s         6.662169\n"
     ]
    }
   ],
   "source": [
    "import numpy\n",
    "from numpy.linalg import norm\n",
    "\n",
    "for k,v in list(key2vec.items())[:10]:\n",
    "    print(k.ljust(10), norm(v))"
   ]
  },
  {
   "cell_type": "code",
   "execution_count": 30,
   "metadata": {},
   "outputs": [],
   "source": [
    "# info = api.info()  # show info about available models/datasets\n",
    "# from pprint import pprint\n",
    "# pprint(info)"
   ]
  },
  {
   "cell_type": "code",
   "execution_count": 31,
   "metadata": {},
   "outputs": [
    {
     "data": {
      "text/plain": [
       "[('nokesville', <gensim.models.keyedvectors.Vocab at 0x1b633e54e0>),\n",
       " ('a&d', <gensim.models.keyedvectors.Vocab at 0x1b633e57b8>),\n",
       " ('poucher', <gensim.models.keyedvectors.Vocab at 0x1b633e5668>),\n",
       " ('siwash', <gensim.models.keyedvectors.Vocab at 0x1b633e5828>),\n",
       " ('germanotta', <gensim.models.keyedvectors.Vocab at 0x1b633e58d0>),\n",
       " ('crivitz', <gensim.models.keyedvectors.Vocab at 0x1b633e5860>),\n",
       " ('all-french', <gensim.models.keyedvectors.Vocab at 0x1b633e5390>),\n",
       " ('simrall', <gensim.models.keyedvectors.Vocab at 0x1b633e5978>),\n",
       " ('asperen', <gensim.models.keyedvectors.Vocab at 0x1b633e5898>),\n",
       " ('barshai', <gensim.models.keyedvectors.Vocab at 0x1b633e59e8>),\n",
       " ('spider-slayer', <gensim.models.keyedvectors.Vocab at 0x1b633e5940>),\n",
       " ('rhins', <gensim.models.keyedvectors.Vocab at 0x1b633e5a20>),\n",
       " ('1978-9', <gensim.models.keyedvectors.Vocab at 0x1b633e5b70>),\n",
       " ('precrime', <gensim.models.keyedvectors.Vocab at 0x1b633e5b00>),\n",
       " ('hbe', <gensim.models.keyedvectors.Vocab at 0x1b633e5ba8>),\n",
       " ('wls-fm', <gensim.models.keyedvectors.Vocab at 0x1b633e5c50>),\n",
       " ('smartened', <gensim.models.keyedvectors.Vocab at 0x1b633e5c88>),\n",
       " ('fourt', <gensim.models.keyedvectors.Vocab at 0x1b633e5cf8>),\n",
       " ('lilyan', <gensim.models.keyedvectors.Vocab at 0x1b633e5eb8>),\n",
       " ('molek', <gensim.models.keyedvectors.Vocab at 0x1b633e5ac8>),\n",
       " ('indal', <gensim.models.keyedvectors.Vocab at 0x1b633e5f28>),\n",
       " ('bramford', <gensim.models.keyedvectors.Vocab at 0x1b633e5d68>),\n",
       " ('israelitische', <gensim.models.keyedvectors.Vocab at 0x1b633e5f98>),\n",
       " ('bivouacking', <gensim.models.keyedvectors.Vocab at 0x1b633e9160>),\n",
       " ('dabholkar', <gensim.models.keyedvectors.Vocab at 0x1b633e5dd8>),\n",
       " ('rosenholm', <gensim.models.keyedvectors.Vocab at 0x1b633e9198>),\n",
       " ('zonata', <gensim.models.keyedvectors.Vocab at 0x1b633e5e10>),\n",
       " ('zoltar', <gensim.models.keyedvectors.Vocab at 0x1b633e9208>),\n",
       " ('qvt', <gensim.models.keyedvectors.Vocab at 0x1b633e5da0>),\n",
       " ('dc-9-30', <gensim.models.keyedvectors.Vocab at 0x1b633e9278>),\n",
       " ('nettlebed', <gensim.models.keyedvectors.Vocab at 0x1b633e5e80>),\n",
       " ('bosendorfer', <gensim.models.keyedvectors.Vocab at 0x1b633e92b0>),\n",
       " ('sutovsky', <gensim.models.keyedvectors.Vocab at 0x1b633e5f60>),\n",
       " ('nohab', <gensim.models.keyedvectors.Vocab at 0x1b633e92e8>),\n",
       " ('veljovic', <gensim.models.keyedvectors.Vocab at 0x1b633e9080>),\n",
       " ('evar', <gensim.models.keyedvectors.Vocab at 0x1b633e9320>),\n",
       " ('stantonbury', <gensim.models.keyedvectors.Vocab at 0x1b633e9128>),\n",
       " ('ischgl', <gensim.models.keyedvectors.Vocab at 0x1b633e9358>),\n",
       " ('nyc-based', <gensim.models.keyedvectors.Vocab at 0x1b633e9668>),\n",
       " ('mpoyo', <gensim.models.keyedvectors.Vocab at 0x1b633e9390>),\n",
       " ('vuko', <gensim.models.keyedvectors.Vocab at 0x1b633e96d8>),\n",
       " ('breznica', <gensim.models.keyedvectors.Vocab at 0x1b633e9400>),\n",
       " ('543-member', <gensim.models.keyedvectors.Vocab at 0x1b633e9710>),\n",
       " ('tanaji', <gensim.models.keyedvectors.Vocab at 0x1b633e9438>),\n",
       " ('smidgeon', <gensim.models.keyedvectors.Vocab at 0x1b633e9780>),\n",
       " ('pellam', <gensim.models.keyedvectors.Vocab at 0x1b633e9470>),\n",
       " ('stargrave', <gensim.models.keyedvectors.Vocab at 0x1b633e9ac8>),\n",
       " ('tessina', <gensim.models.keyedvectors.Vocab at 0x1b633e94a8>),\n",
       " ('seehausen', <gensim.models.keyedvectors.Vocab at 0x1b633e9b70>),\n",
       " ('manko', <gensim.models.keyedvectors.Vocab at 0x1b633e94e0>),\n",
       " ('gun-brigs', <gensim.models.keyedvectors.Vocab at 0x1b633e9908>),\n",
       " ('in-the-fields', <gensim.models.keyedvectors.Vocab at 0x1b633e9518>),\n",
       " ('13-city', <gensim.models.keyedvectors.Vocab at 0x1b633e9940>),\n",
       " ('shiroma', <gensim.models.keyedvectors.Vocab at 0x1b633e9588>),\n",
       " ('detemobil', <gensim.models.keyedvectors.Vocab at 0x1b633e99b0>),\n",
       " ('pondsmith', <gensim.models.keyedvectors.Vocab at 0x1b633e95c0>),\n",
       " ('matovina', <gensim.models.keyedvectors.Vocab at 0x1b633e9be0>),\n",
       " ('tuanjie', <gensim.models.keyedvectors.Vocab at 0x1b633e9828>),\n",
       " ('molinia', <gensim.models.keyedvectors.Vocab at 0x1b633e9c50>),\n",
       " ('sneakiness', <gensim.models.keyedvectors.Vocab at 0x1b633e97b8>),\n",
       " ('kaum', <gensim.models.keyedvectors.Vocab at 0x1b633e9d30>),\n",
       " ('grindall', <gensim.models.keyedvectors.Vocab at 0x1b633e9b00>),\n",
       " ('muv-luv', <gensim.models.keyedvectors.Vocab at 0x1b633e9f60>),\n",
       " ('conne', <gensim.models.keyedvectors.Vocab at 0x1b633e9860>),\n",
       " ('stellman', <gensim.models.keyedvectors.Vocab at 0x1b633e9fd0>),\n",
       " ('rearviewmirror', <gensim.models.keyedvectors.Vocab at 0x1b633e9898>),\n",
       " ('smth', <gensim.models.keyedvectors.Vocab at 0x1b633e9e10>),\n",
       " ('lelièvre', <gensim.models.keyedvectors.Vocab at 0x1b633e9a20>),\n",
       " ('chelford', <gensim.models.keyedvectors.Vocab at 0x1b633e9e48>),\n",
       " ('piesiewicz', <gensim.models.keyedvectors.Vocab at 0x1b633e9a90>),\n",
       " ('sighişoara', <gensim.models.keyedvectors.Vocab at 0x1b633e9e80>),\n",
       " ('arichat', <gensim.models.keyedvectors.Vocab at 0x1b633e9d68>),\n",
       " ('florescence', <gensim.models.keyedvectors.Vocab at 0x1b633e9eb8>),\n",
       " ('pynn', <gensim.models.keyedvectors.Vocab at 0x1b633e9da0>),\n",
       " ('eeu', <gensim.models.keyedvectors.Vocab at 0x1b633e9f28>),\n",
       " ('dahomeyan', <gensim.models.keyedvectors.Vocab at 0x1b633e9cc0>),\n",
       " ('burgate', <gensim.models.keyedvectors.Vocab at 0x1b633e9c88>),\n",
       " ('1i', <gensim.models.keyedvectors.Vocab at 0x1b633eb048>),\n",
       " ('marcognet', <gensim.models.keyedvectors.Vocab at 0x1b633eb160>),\n",
       " ('bouchout', <gensim.models.keyedvectors.Vocab at 0x1b633eb080>),\n",
       " ('kreiensen', <gensim.models.keyedvectors.Vocab at 0x1b633eb2b0>),\n",
       " ('cleistogamous', <gensim.models.keyedvectors.Vocab at 0x1b633eb0b8>),\n",
       " ('appleby-in-westmorland',\n",
       "  <gensim.models.keyedvectors.Vocab at 0x1b633eb358>),\n",
       " ('songful', <gensim.models.keyedvectors.Vocab at 0x1b633eb0f0>),\n",
       " ('panchita', <gensim.models.keyedvectors.Vocab at 0x1b633eb668>),\n",
       " ('o’regan', <gensim.models.keyedvectors.Vocab at 0x1b633eb198>),\n",
       " ('brennabor', <gensim.models.keyedvectors.Vocab at 0x1b633eb6a0>),\n",
       " ('parleyed', <gensim.models.keyedvectors.Vocab at 0x1b633eb1d0>),\n",
       " ('sanderford', <gensim.models.keyedvectors.Vocab at 0x1b633eb390>),\n",
       " ('kargaly', <gensim.models.keyedvectors.Vocab at 0x1b633eb208>),\n",
       " ('jämsä', <gensim.models.keyedvectors.Vocab at 0x1b633eb400>),\n",
       " ('l’oréal', <gensim.models.keyedvectors.Vocab at 0x1b633eb240>),\n",
       " ('chamberlaine', <gensim.models.keyedvectors.Vocab at 0x1b633eb748>),\n",
       " ('bilanz', <gensim.models.keyedvectors.Vocab at 0x1b633eb278>),\n",
       " ('p166', <gensim.models.keyedvectors.Vocab at 0x1b633eb7b8>),\n",
       " ('harde', <gensim.models.keyedvectors.Vocab at 0x1b633eb470>),\n",
       " ('vru', <gensim.models.keyedvectors.Vocab at 0x1b633eb908>),\n",
       " ('subbuteo', <gensim.models.keyedvectors.Vocab at 0x1b633eb320>),\n",
       " ('amirav', <gensim.models.keyedvectors.Vocab at 0x1b633eb940>),\n",
       " ('rakeysh', <gensim.models.keyedvectors.Vocab at 0x1b633eb4a8>)]"
      ]
     },
     "execution_count": 31,
     "metadata": {},
     "output_type": "execute_result"
    }
   ],
   "source": [
    "list(model.vocab.items())[-500:][:100]"
   ]
  },
  {
   "cell_type": "code",
   "execution_count": null,
   "metadata": {},
   "outputs": [],
   "source": []
  }
 ],
 "metadata": {
  "kernelspec": {
   "display_name": "Python 3",
   "language": "python",
   "name": "python3"
  },
  "language_info": {
   "codemirror_mode": {
    "name": "ipython",
    "version": 3
   },
   "file_extension": ".py",
   "mimetype": "text/x-python",
   "name": "python",
   "nbconvert_exporter": "python",
   "pygments_lexer": "ipython3",
   "version": "3.6.4"
  }
 },
 "nbformat": 4,
 "nbformat_minor": 2
}
